{
 "cells": [
  {
   "cell_type": "code",
   "execution_count": null,
   "metadata": {},
   "outputs": [],
   "source": [
    "from datetime import timedelta\n",
    "from pathlib import Path\n",
    "import os\n",
    "\n",
    "import pandas as pd\n",
    "import numpy as np\n",
    "import seaborn as sns\n",
    "import matplotlib.pyplot as plt\n",
    "\n",
    "DATA_DIR = Path('../../Data/Wind Turbine')"
   ]
  },
  {
   "cell_type": "markdown",
   "metadata": {},
   "source": [
    "## First look at data"
   ]
  },
  {
   "cell_type": "markdown",
   "metadata": {},
   "source": [
    "### SCADA data"
   ]
  },
  {
   "cell_type": "code",
   "execution_count": null,
   "metadata": {},
   "outputs": [],
   "source": [
    "scada_df = pd.read_csv(DATA_DIR / 'scada_data.csv')\n",
    "scada_df['DateTime'] = pd.to_datetime(scada_df['DateTime'], format='%m/%d/%Y %H:%M')\n",
    "scada_df['HasError'] = (scada_df['Error'] != 0).astype(int)"
   ]
  },
  {
   "cell_type": "code",
   "execution_count": null,
   "metadata": {},
   "outputs": [],
   "source": [
    "scada_df['DateTimeR'] = scada_df['DateTime'].dt.round(freq='10min')\n",
    "scada_df_gr = scada_df.groupby('DateTimeR', as_index=False).mean()\n",
    "\n",
    "date_range = pd.Series(pd.date_range(start=scada_df_gr['DateTimeR'].min(), end=scada_df_gr['DateTimeR'].max(), freq='10min'), name='DateTimeR')\n",
    "scada_df_gr = scada_df_gr.merge(date_range, how='outer', on='DateTimeR').sort_values('DateTimeR')\n",
    "scada_df_gr['HasMissing'] = (scada_df_gr['Time'].isna()).astype(int)\n",
    "scada_df_gr.head(60)\n"
   ]
  },
  {
   "cell_type": "code",
   "execution_count": null,
   "metadata": {},
   "outputs": [],
   "source": []
  },
  {
   "cell_type": "code",
   "execution_count": null,
   "metadata": {},
   "outputs": [],
   "source": []
  },
  {
   "cell_type": "code",
   "execution_count": null,
   "metadata": {},
   "outputs": [],
   "source": [
    "data_to_plot = scada_df.head(5000)\n",
    "fig, axes = plt.subplots(figsize=(20, 14), nrows=3)\n",
    "sns.lineplot(x='DateTime', y='WEC: ava. windspeed', data=data_to_plot, ax=axes[0])\n",
    "sns.lineplot(x='DateTime', y='Error', data=data_to_plot, ax=axes[0])\n",
    "\n",
    "sns.lineplot(x='DateTime', y='WEC: ava. Rotation', data=data_to_plot, ax=axes[1])\n",
    "sns.lineplot(x='DateTime', y='WEC: ava. Power', data=data_to_plot, ax=axes[2])"
   ]
  },
  {
   "cell_type": "code",
   "execution_count": null,
   "metadata": {},
   "outputs": [],
   "source": [
    "scada_df.columns"
   ]
  },
  {
   "cell_type": "markdown",
   "metadata": {},
   "source": [
    "### Faults"
   ]
  },
  {
   "cell_type": "code",
   "execution_count": null,
   "metadata": {},
   "outputs": [],
   "source": [
    "fault_df = pd.read_csv(DATA_DIR / 'fault_data.csv')\n",
    "fault_df['DateTime'] = pd.to_datetime(fault_df['DateTime'], format='%Y-%m-%d %H:%M:%S')\n",
    "fault_df['TimeDiff'] = fault_df['DateTime'] - fault_df['DateTime'].shift(1)\n",
    "\n",
    "fault_df['DateTimeR'] = fault_df['DateTime'].dt.round(freq='10min')\n",
    "\n",
    "grouped_records = []\n",
    "for dt, group_df in fault_df.groupby('DateTimeR', as_index=False):\n",
    "    fault_record = (dt, ','.join(group_df['Fault'].unique()))\n",
    "    grouped_records.append(fault_record)\n",
    "\n",
    "grouped_fault_df = pd.DataFrame.from_records(grouped_records, columns=['DateTime', 'Faults'])\n",
    "\n",
    "for fault_type in fault_df['Fault'].unique():\n",
    "    grouped_fault_df[f'Fault_{fault_type}'] = (grouped_fault_df['Faults'].str.contains(fault_type)).astype(int)\n",
    "\n",
    "# grouped_fault_df.head(50)\n",
    "\n",
    "date_range = pd.Series(pd.date_range(start=scada_df_gr['DateTimeR'].min(), end=scada_df_gr['DateTimeR'].max(), freq='10min'), name='DateTime')\n",
    "grouped_fault_df = grouped_fault_df.merge(date_range, how='outer', on='DateTime').sort_values('DateTime')\n",
    "grouped_fault_df['HasMissing'] = (grouped_fault_df['Faults'].isna()).astype(int)\n",
    "grouped_fault_df.head(60)\n"
   ]
  },
  {
   "cell_type": "code",
   "execution_count": null,
   "metadata": {},
   "outputs": [],
   "source": [
    "fault_df['TimeDiff'][fault_df['TimeDiff'] < timedelta(minutes=10)]"
   ]
  },
  {
   "cell_type": "code",
   "execution_count": null,
   "metadata": {},
   "outputs": [],
   "source": [
    "fault_df['Fault'].value_counts()"
   ]
  },
  {
   "cell_type": "markdown",
   "metadata": {},
   "source": [
    "### Status data"
   ]
  },
  {
   "cell_type": "code",
   "execution_count": null,
   "metadata": {},
   "outputs": [],
   "source": [
    "status_df = pd.read_csv(DATA_DIR / 'status_data.csv')\n",
    "status_df['Time'] = pd.to_datetime(status_df['Time'], format='%d/%m/%Y %H:%M:%S')\n",
    "status_df = status_df.rename(columns={'Time': 'DateTime'})\n",
    "status_df"
   ]
  },
  {
   "cell_type": "code",
   "execution_count": null,
   "metadata": {},
   "outputs": [],
   "source": [
    "status_df['Main Status'].value_counts()"
   ]
  },
  {
   "cell_type": "markdown",
   "metadata": {},
   "source": [
    "### Merged data"
   ]
  },
  {
   "cell_type": "code",
   "execution_count": null,
   "metadata": {},
   "outputs": [],
   "source": [
    "faults_status_df = fault_df.merge(status_df, on='DateTime', how='outer').sort_values('DateTime')\n",
    "faults_status_df['FaultCode'] = faults_status_df['Fault'].map({\n",
    "    'AF': 1,\n",
    "    'EF': 2,\n",
    "    'GF': 3,\n",
    "    'FF': 4,\n",
    "    'MF': 5,\n",
    "})\n",
    "faults_status_df.head(60).tail(60)"
   ]
  },
  {
   "cell_type": "code",
   "execution_count": null,
   "metadata": {},
   "outputs": [],
   "source": [
    "fig, axes = plt.subplots(figsize=(20, 14), nrows=3)\n",
    "sns.scatterplot(x='DateTime', y='FaultCode', data=faults_status_df, hue='FaultCode', ax=axes[0])\n",
    "sns.scatterplot(x='DateTime', y='T', data=faults_status_df, ax=axes[1])\n",
    "sns.scatterplot(x='DateTime', y='Value0', data=faults_status_df, ax=axes[2])"
   ]
  },
  {
   "cell_type": "code",
   "execution_count": null,
   "metadata": {},
   "outputs": [],
   "source": []
  }
 ],
 "metadata": {
  "kernelspec": {
   "display_name": "Python 3.8.10 ('predictive_analytics_venv')",
   "language": "python",
   "name": "python3"
  },
  "language_info": {
   "codemirror_mode": {
    "name": "ipython",
    "version": 3
   },
   "file_extension": ".py",
   "mimetype": "text/x-python",
   "name": "python",
   "nbconvert_exporter": "python",
   "pygments_lexer": "ipython3",
   "version": "3.8.10"
  },
  "orig_nbformat": 4,
  "vscode": {
   "interpreter": {
    "hash": "7b726d3d94632a639010ec82b28247bb454b9ede98fe2c8b203cafa9926136fb"
   }
  }
 },
 "nbformat": 4,
 "nbformat_minor": 2
}
